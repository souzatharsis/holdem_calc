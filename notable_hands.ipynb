{
 "cells": [
  {
   "cell_type": "code",
   "execution_count": 17,
   "metadata": {},
   "outputs": [],
   "source": [
    "from poker import Range\n",
    "from poker.hand import Combo\n",
    "\n",
    "import holdem_calc\n",
    "import holdem_functions\n",
    "\n",
    "import numpy as np\n",
    "import pandas as pd\n",
    "import matplotlib.pyplot as plt\n",
    "from IPython.core.display import display, HTML\n",
    "\n",
    "hero_odds = []\n",
    "hero_range_odds = []"
   ]
  },
  {
   "cell_type": "markdown",
   "metadata": {},
   "source": [
    "###  2/3/2021 - great hand here. I decide to play 8 dollar buy in with 5s9s because I had last position and felt good. we hit a great flop. flush draw opportunity and after the turn, straight draw as well. but missing the flush on the turn decreases chance of winning dramatically "
   ]
  },
  {
   "cell_type": "code",
   "execution_count": 4,
   "metadata": {},
   "outputs": [
    {
     "name": "stdout",
     "output_type": "stream",
     "text": [
      "K♠5♠\n"
     ]
    }
   ],
   "source": [
    "# my hand = \n",
    "hero_hand = Combo('5sKs')\n",
    "print(hero_hand)\n",
    "\n"
   ]
  },
  {
   "cell_type": "code",
   "execution_count": 5,
   "metadata": {},
   "outputs": [
    {
     "name": "stdout",
     "output_type": "stream",
     "text": [
      "Time elapsed:  12.40917181968689\n"
     ]
    },
    {
     "data": {
      "text/plain": [
       "{'tie': 0.020918715368299087,\n",
       " 'win': 0.6057017912707089,\n",
       " 'lose': 0.37337949336099197}"
      ]
     },
     "execution_count": 5,
     "metadata": {},
     "output_type": "execute_result"
    }
   ],
   "source": [
    "# the flop\n",
    "\n",
    "flop = [\"Ts\", \"3s\", \"7d\"] \n",
    "\n",
    "\n",
    "board = flop # the board equals the flop\n",
    "villan_hand = None # no prior knowledge about the villan\n",
    "exact_calculation = True #  calculates exactly by simulating the set of all possible hands\n",
    "verbose = True # returns odds of making a certain poker hand, e.g., quads, set, straight\n",
    "num_sims = 1 # ignored by exact_calculation = True\n",
    "read_from_file = None # we are not reading hands from file\n",
    "\n",
    "\n",
    "odds = holdem_calc.calculate_odds_villan(board, exact_calculation, \n",
    "                            num_sims, read_from_file , \n",
    "                            hero_hand, villan_hand, \n",
    "                            verbose, print_elapsed_time = True)\n",
    "\n",
    "hero_odds.append(odds[0]['win'])\n",
    "odds[0]\n",
    "\n"
   ]
  },
  {
   "cell_type": "code",
   "execution_count": 6,
   "metadata": {},
   "outputs": [
    {
     "name": "stdout",
     "output_type": "stream",
     "text": [
      "Time elapsed:  0.6733231544494629\n",
      "{'tie': 0.009552042160737812, 'win': 0.4632191480017567, 'lose': 0.5272288098375055}\n"
     ]
    }
   ],
   "source": [
    "# the turn \n",
    "turn= [\"2c\"]\n",
    "\n",
    "\n",
    "board = flop + turn\n",
    "villan_hand = None\n",
    "\n",
    "odds = holdem_calc.calculate_odds_villan(board, exact_calculation, \n",
    "                            num_sims, read_from_file , \n",
    "                            hero_hand, villan_hand, \n",
    "                            verbose, print_elapsed_time = True)\n",
    "hero_odds.append(odds[0]['win'])\n",
    "\n",
    "print(odds[0])"
   ]
  },
  {
   "cell_type": "markdown",
   "metadata": {},
   "source": [
    "## 2/3/2021 - another epic hand against duckbbuttlicker. would've folded this probably if it weren't for the odds. after flop we've almost got the straight, 59% chance of winning. the turn doesn't help us but odds are still high - 52%. Play a raise of 30 to hit the 10c straight on the river. Went in hard with a 90 bet hoping he didn't have flush and and he played it, j takes it home"
   ]
  },
  {
   "cell_type": "code",
   "execution_count": 7,
   "metadata": {},
   "outputs": [
    {
     "name": "stdout",
     "output_type": "stream",
     "text": [
      "K♠Q♥\n"
     ]
    }
   ],
   "source": [
    "# my hand = \n",
    "hero_hand = Combo('KsQh')\n",
    "print(hero_hand)"
   ]
  },
  {
   "cell_type": "code",
   "execution_count": 8,
   "metadata": {},
   "outputs": [
    {
     "name": "stdout",
     "output_type": "stream",
     "text": [
      "Time elapsed:  12.43734622001648\n"
     ]
    },
    {
     "data": {
      "text/plain": [
       "{'tie': 0.07519412440781544,\n",
       " 'win': 0.581091208103234,\n",
       " 'lose': 0.3437146674889506}"
      ]
     },
     "execution_count": 8,
     "metadata": {},
     "output_type": "execute_result"
    }
   ],
   "source": [
    "# the flop\n",
    "flop = [\"Ad\", \"Jc\", \"Jd\"] \n",
    "\n",
    "\n",
    "board = flop # the board equals the flop\n",
    "villan_hand = None # no prior knowledge about the villan\n",
    "exact_calculation = True #  calculates exactly by simulating the set of all possible hands\n",
    "verbose = True # returns odds of making a certain poker hand, e.g., quads, set, straight\n",
    "num_sims = 1 # ignored by exact_calculation = True\n",
    "read_from_file = None # we are not reading hands from file\n",
    "\n",
    "\n",
    "odds = holdem_calc.calculate_odds_villan(board, exact_calculation, \n",
    "                            num_sims, read_from_file , \n",
    "                            hero_hand, villan_hand, \n",
    "                            verbose, print_elapsed_time = True)\n",
    "\n",
    "hero_odds.append(odds[0]['win'])\n",
    "odds[0]"
   ]
  },
  {
   "cell_type": "code",
   "execution_count": 9,
   "metadata": {},
   "outputs": [
    {
     "name": "stdout",
     "output_type": "stream",
     "text": [
      "Time elapsed:  0.6794118881225586\n",
      "{'tie': 0.07086078173034695, 'win': 0.532806324110672, 'lose': 0.3963328941589811}\n"
     ]
    }
   ],
   "source": [
    "# the turn \n",
    "turn= [\"5c\"]\n",
    "\n",
    "\n",
    "board = flop + turn\n",
    "villan_hand = None\n",
    "\n",
    "odds = holdem_calc.calculate_odds_villan(board, exact_calculation, \n",
    "                            num_sims, read_from_file , \n",
    "                            hero_hand, villan_hand, \n",
    "                            verbose, print_elapsed_time = True)\n",
    "hero_odds.append(odds[0]['win'])\n",
    "\n",
    "print(odds[0])"
   ]
  },
  {
   "cell_type": "code",
   "execution_count": 10,
   "metadata": {},
   "outputs": [
    {
     "name": "stdout",
     "output_type": "stream",
     "text": [
      "Time elapsed:  0.03180885314941406\n",
      "{'tie': 0.00808080808080808, 'win': 0.9181818181818182, 'lose': 0.07373737373737374}\n"
     ]
    }
   ],
   "source": [
    "# the river\n",
    "river = [\"Tc\"]\n",
    "board = flop + turn + river \n",
    "verbose = True\n",
    "\n",
    "villan_hand = None\n",
    "\n",
    "odds = holdem_calc.calculate_odds_villan(board, exact_calculation, \n",
    "                            num_sims, read_from_file , \n",
    "                            hero_hand, villan_hand, \n",
    "                            verbose, print_elapsed_time = True)\n",
    "hero_odds.append(odds[0]['win'])\n",
    "\n",
    "print(odds[0])"
   ]
  },
  {
   "cell_type": "markdown",
   "metadata": {},
   "source": [
    "### 2/18/21 holy FUCK what a run\n",
    "\n",
    "I buy in 400 with Zhijan to my left. He bets hard and aggressively and I know the money on this table doesn't matter to him cause he's taking a rake on the game itself. I'm sitting pretty with QcQs, and I open up 10 bet and the whole table calls. 4c6h7h comes out and Zhijan bets 30, me and one other call. 4d comes out, nothing doing for anyone and zhijan bets 132. I figure I still have strongest pair and call (not even thinking about the flush draw). Qh comes out, giving anyone with hearts the flush, but I literally did not even think of that because I had trip Queens and thought I had Zhijan beat. He snap calls with the Ace flush obviously, but I got lucky and win the full house (which I honestly didn't even see)"
   ]
  },
  {
   "cell_type": "code",
   "execution_count": 11,
   "metadata": {},
   "outputs": [
    {
     "name": "stdout",
     "output_type": "stream",
     "text": [
      "Q♠Q♣\n"
     ]
    }
   ],
   "source": [
    "# my hand = \n",
    "hero_hand = Combo('QsQc')\n",
    "print(hero_hand)"
   ]
  },
  {
   "cell_type": "code",
   "execution_count": 12,
   "metadata": {},
   "outputs": [
    {
     "name": "stdout",
     "output_type": "stream",
     "text": [
      "Time elapsed:  12.569914817810059\n"
     ]
    },
    {
     "data": {
      "text/plain": [
       "{'tie': 0.02437230772105888,\n",
       " 'win': 0.6913716255991926,\n",
       " 'lose': 0.28425606667974845}"
      ]
     },
     "execution_count": 12,
     "metadata": {},
     "output_type": "execute_result"
    }
   ],
   "source": [
    "# the flop\n",
    "flop = [\"4c\", \"6h\", \"7h\"] \n",
    "\n",
    "\n",
    "board = flop # the board equals the flop\n",
    "villan_hand = None # no prior knowledge about the villan\n",
    "exact_calculation = True #  calculates exactly by simulating the set of all possible hands\n",
    "verbose = True # returns odds of making a certain poker hand, e.g., quads, set, straight\n",
    "num_sims = 1 # ignored by exact_calculation = True\n",
    "read_from_file = None # we are not reading hands from file\n",
    "\n",
    "\n",
    "odds = holdem_calc.calculate_odds_villan(board, exact_calculation, \n",
    "                            num_sims, read_from_file , \n",
    "                            hero_hand, villan_hand, \n",
    "                            verbose, print_elapsed_time = True)\n",
    "\n",
    "hero_odds.append(odds[0]['win'])\n",
    "odds[0]"
   ]
  },
  {
   "cell_type": "code",
   "execution_count": 13,
   "metadata": {},
   "outputs": [
    {
     "name": "stdout",
     "output_type": "stream",
     "text": [
      "Time elapsed:  0.6927521228790283\n",
      "{'tie': 0.000966183574879227, 'win': 0.7795344751866491, 'lose': 0.21949934123847167}\n"
     ]
    }
   ],
   "source": [
    "# the turn \n",
    "turn= [\"4d\"]\n",
    "\n",
    "\n",
    "board = flop + turn\n",
    "villan_hand = None\n",
    "\n",
    "odds = holdem_calc.calculate_odds_villan(board, exact_calculation, \n",
    "                            num_sims, read_from_file , \n",
    "                            hero_hand, villan_hand, \n",
    "                            verbose, print_elapsed_time = True)\n",
    "hero_odds.append(odds[0]['win'])\n",
    "\n",
    "print(odds[0])"
   ]
  },
  {
   "cell_type": "code",
   "execution_count": 14,
   "metadata": {},
   "outputs": [
    {
     "name": "stdout",
     "output_type": "stream",
     "text": [
      "Time elapsed:  0.03111410140991211\n",
      "{'tie': 0.0, 'win': 0.998989898989899, 'lose': 0.00101010101010101}\n"
     ]
    }
   ],
   "source": [
    "# the river\n",
    "river = [\"Qh\"]\n",
    "board = flop + turn + river \n",
    "verbose = True\n",
    "\n",
    "villan_hand = None\n",
    "\n",
    "odds = holdem_calc.calculate_odds_villan(board, exact_calculation, \n",
    "                            num_sims, read_from_file , \n",
    "                            hero_hand, villan_hand, \n",
    "                            verbose, print_elapsed_time = True)\n",
    "hero_odds.append(odds[0]['win'])\n",
    "\n",
    "print(odds[0])"
   ]
  },
  {
   "cell_type": "markdown",
   "metadata": {},
   "source": [
    "## 2/18/21 but it doesn't stop here... I have AhJs on the button, UTG raises 6 and everyone calls, Zhijan raises to 48, me and UTG+1 call. Flop comes oupt ThJh6c. Zhijan goes all in and I think for a moment... OK, I have top pair with the best kicker, there's a flush and straight draw but fuck it. I call for 331. Turn: Td, river: 6d, I beat Zhijan KcQs - he was looking for straight draw. I win 434 on a single hand, probably the biggest win of my life to date"
   ]
  },
  {
   "cell_type": "code",
   "execution_count": 22,
   "metadata": {},
   "outputs": [
    {
     "name": "stdout",
     "output_type": "stream",
     "text": [
      "A♥J♠\n"
     ]
    }
   ],
   "source": [
    "# my hand = \n",
    "hero_hand = Combo('AhJs')\n",
    "print(hero_hand)"
   ]
  },
  {
   "cell_type": "code",
   "execution_count": 23,
   "metadata": {},
   "outputs": [
    {
     "name": "stdout",
     "output_type": "stream",
     "text": [
      "Time elapsed:  13.348726987838745\n"
     ]
    },
    {
     "data": {
      "text/plain": [
       "{'tie': 0.007852811183060951,\n",
       " 'win': 0.8249348246573038,\n",
       " 'lose': 0.1672123641596352}"
      ]
     },
     "execution_count": 23,
     "metadata": {},
     "output_type": "execute_result"
    }
   ],
   "source": [
    "# the flop\n",
    "flop = [\"Th\", \"Jh\", \"6c\"] \n",
    "\n",
    "\n",
    "board = flop # the board equals the flop\n",
    "villan_hand = None # no prior knowledge about the villan\n",
    "exact_calculation = True #  calculates exactly by simulating the set of all possible hands\n",
    "verbose = True # returns odds of making a certain poker hand, e.g., quads, set, straight\n",
    "num_sims = 1 # ignored by exact_calculation = True\n",
    "read_from_file = None # we are not reading hands from file\n",
    "\n",
    "\n",
    "odds = holdem_calc.calculate_odds_villan(board, exact_calculation, \n",
    "                            num_sims, read_from_file , \n",
    "                            hero_hand, villan_hand, \n",
    "                            verbose, print_elapsed_time = True)\n",
    "\n",
    "hero_odds.append(odds[0]['win'])\n",
    "odds[0]"
   ]
  },
  {
   "cell_type": "code",
   "execution_count": 24,
   "metadata": {},
   "outputs": [
    {
     "name": "stdout",
     "output_type": "stream",
     "text": [
      "Time elapsed:  0.6255447864532471\n",
      "{'tie': 0.011023276240667545, 'win': 0.8382740447957839, 'lose': 0.15070267896354853}\n"
     ]
    }
   ],
   "source": [
    "# the turn \n",
    "turn= [\"Td\"]\n",
    "\n",
    "\n",
    "board = flop + turn\n",
    "villan_hand = None\n",
    "\n",
    "odds = holdem_calc.calculate_odds_villan(board, exact_calculation, \n",
    "                            num_sims, read_from_file , \n",
    "                            hero_hand, villan_hand, \n",
    "                            verbose, print_elapsed_time = True)\n",
    "hero_odds.append(odds[0]['win'])\n",
    "\n",
    "print(odds[0])"
   ]
  },
  {
   "cell_type": "code",
   "execution_count": 27,
   "metadata": {},
   "outputs": [
    {
     "name": "stdout",
     "output_type": "stream",
     "text": [
      "Time elapsed:  0.04263901710510254\n",
      "{'tie': 0.006060606060606061, 'win': 0.806060606060606, 'lose': 0.18787878787878787}\n"
     ]
    }
   ],
   "source": [
    "# the river\n",
    "river = [\"6d\"]\n",
    "board = flop + turn + river \n",
    "verbose = True\n",
    "\n",
    "villan_hand = None\n",
    "\n",
    "odds = holdem_calc.calculate_odds_villan(board, exact_calculation, \n",
    "                            num_sims, read_from_file , \n",
    "                            hero_hand, villan_hand, \n",
    "                            verbose, print_elapsed_time = True)\n",
    "hero_odds.append(odds[0]['win'])\n",
    "\n",
    "print(odds[0])\n",
    "\n",
    "#Confused here why a diamond would lower my changes at winning... I guess cause of the trips. \n",
    "#But I was playing against the straight or flush draw "
   ]
  },
  {
   "cell_type": "code",
   "execution_count": null,
   "metadata": {},
   "outputs": [],
   "source": []
  }
 ],
 "metadata": {
  "kernelspec": {
   "display_name": "Python 3",
   "language": "python",
   "name": "python3"
  },
  "language_info": {
   "codemirror_mode": {
    "name": "ipython",
    "version": 3
   },
   "file_extension": ".py",
   "mimetype": "text/x-python",
   "name": "python",
   "nbconvert_exporter": "python",
   "pygments_lexer": "ipython3",
   "version": "3.7.4"
  }
 },
 "nbformat": 4,
 "nbformat_minor": 2
}
