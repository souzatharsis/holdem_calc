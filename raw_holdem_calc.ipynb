{
 "cells": [
  {
   "cell_type": "code",
   "execution_count": 1,
   "metadata": {},
   "outputs": [],
   "source": [
    "from poker import Range\n",
    "from poker.hand import Combo\n",
    "\n",
    "import holdem_calc\n",
    "import holdem_functions\n",
    "\n",
    "import numpy as np\n",
    "import pandas as pd\n",
    "import matplotlib.pyplot as plt\n",
    "from IPython.core.display import display, HTML\n",
    "\n",
    "hero_odds = []\n",
    "hero_range_odds = []"
   ]
  },
  {
   "cell_type": "code",
   "execution_count": null,
   "metadata": {},
   "outputs": [],
   "source": [
    "'''\n",
    "As, Ac, Ah, Ad\n",
    "Ks, Kc, Kh, Kd\n",
    "Qs, Qc, Qh, Qd\n",
    "Js, Jc, Jh, Jd\n",
    "Ts, Tc, Th, Td\n",
    "9s, 9c, 9h, 9d\n",
    "8s, 8c, 8h, 8d\n",
    "7s, 7c, 7h, 7d\n",
    "6s, 6c, 6h, 6d\n",
    "5s, 5c, 5h, 5d\n",
    "4s, 4c, 4h, 4d\n",
    "3s, 3c, 3h, 3d\n",
    "2s, 2c, 2h, 2d\n",
    "'''"
   ]
  },
  {
   "cell_type": "markdown",
   "metadata": {},
   "source": [
    "# Hero \n"
   ]
  },
  {
   "cell_type": "code",
   "execution_count": 108,
   "metadata": {},
   "outputs": [
    {
     "name": "stdout",
     "output_type": "stream",
     "text": [
      "3♠3♥\n"
     ]
    }
   ],
   "source": [
    "# my hand = \n",
    "hero_hand = Combo('3s3h')\n",
    "print(hero_hand)"
   ]
  },
  {
   "cell_type": "markdown",
   "metadata": {},
   "source": [
    "# Flop"
   ]
  },
  {
   "cell_type": "code",
   "execution_count": 109,
   "metadata": {},
   "outputs": [
    {
     "name": "stdout",
     "output_type": "stream",
     "text": [
      "Time elapsed:  14.108204126358032\n"
     ]
    },
    {
     "data": {
      "text/plain": [
       "{'tie': 0.0030246965492108876,\n",
       " 'win': 0.5350320971042525,\n",
       " 'lose': 0.4619432063465366}"
      ]
     },
     "execution_count": 109,
     "metadata": {},
     "output_type": "execute_result"
    }
   ],
   "source": [
    "# the flop\n",
    "flop = [\"2d\", \"Qc\", \"4c\"] \n",
    "\n",
    "\n",
    "board = flop # the board equals the flop\n",
    "villan_hand = None # no prior knowledge about the villan\n",
    "exact_calculation = True #  calculates exactly by simulating the set of all possible hands\n",
    "verbose = True # returns odds of making a certain poker hand, e.g., quads, set, straight\n",
    "num_sims = 1 # ignored by exact_calculation = True\n",
    "read_from_file = None # we are not reading hands from file\n",
    "\n",
    "\n",
    "odds = holdem_calc.calculate_odds_villan(board, exact_calculation, \n",
    "                            num_sims, read_from_file , \n",
    "                            hero_hand, villan_hand, \n",
    "                            verbose, print_elapsed_time = True)\n",
    "\n",
    "hero_odds.append(odds[0]['win'])\n",
    "odds[0]"
   ]
  },
  {
   "cell_type": "markdown",
   "metadata": {},
   "source": [
    "# Turn"
   ]
  },
  {
   "cell_type": "code",
   "execution_count": 97,
   "metadata": {},
   "outputs": [
    {
     "name": "stdout",
     "output_type": "stream",
     "text": [
      "Time elapsed:  0.6003391742706299\n",
      "{'tie': 0.020355731225296443, 'win': 0.5173693456302152, 'lose': 0.46227492314448837}\n"
     ]
    }
   ],
   "source": [
    "# the turn \n",
    "turn= [\"9d\"]\n",
    "\n",
    "\n",
    "board = flop + turn\n",
    "villan_hand = None\n",
    "\n",
    "odds = holdem_calc.calculate_odds_villan(board, exact_calculation, \n",
    "                            num_sims, read_from_file , \n",
    "                            hero_hand, villan_hand, \n",
    "                            verbose, print_elapsed_time = True)\n",
    "hero_odds.append(odds[0]['win'])\n",
    "\n",
    "print(odds[0])"
   ]
  },
  {
   "cell_type": "markdown",
   "metadata": {},
   "source": [
    "#  River "
   ]
  },
  {
   "cell_type": "code",
   "execution_count": 91,
   "metadata": {},
   "outputs": [
    {
     "name": "stdout",
     "output_type": "stream",
     "text": [
      "Time elapsed:  0.0337519645690918\n",
      "{'tie': 0.00909090909090909, 'win': 0.2383838383838384, 'lose': 0.7525252525252525}\n"
     ]
    }
   ],
   "source": [
    "river = [\"Qs\"]\n",
    "board = flop + turn + river \n",
    "verbose = True\n",
    "\n",
    "villan_hand = None\n",
    "\n",
    "odds = holdem_calc.calculate_odds_villan(board, exact_calculation, \n",
    "                            num_sims, read_from_file , \n",
    "                            hero_hand, villan_hand, \n",
    "                            verbose, print_elapsed_time = True)\n",
    "hero_odds.append(odds[0]['win'])\n",
    "\n",
    "print(odds[0])"
   ]
  },
  {
   "cell_type": "code",
   "execution_count": null,
   "metadata": {},
   "outputs": [],
   "source": []
  }
 ],
 "metadata": {
  "kernelspec": {
   "display_name": "Python 3",
   "language": "python",
   "name": "python3"
  },
  "language_info": {
   "codemirror_mode": {
    "name": "ipython",
    "version": 3
   },
   "file_extension": ".py",
   "mimetype": "text/x-python",
   "name": "python",
   "nbconvert_exporter": "python",
   "pygments_lexer": "ipython3",
   "version": "3.7.4"
  }
 },
 "nbformat": 4,
 "nbformat_minor": 2
}
