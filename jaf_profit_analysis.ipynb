{
 "cells": [
  {
   "cell_type": "code",
   "execution_count": 61,
   "metadata": {},
   "outputs": [],
   "source": [
    "import pandas as pd\n",
    "import numpy as np\n",
    "import matplotlib.pyplot as plt\n",
    "import datetime as dt"
   ]
  },
  {
   "cell_type": "code",
   "execution_count": 53,
   "metadata": {},
   "outputs": [],
   "source": [
    "hands = pd.read_csv('data/jaf_poker.csv')"
   ]
  },
  {
   "cell_type": "code",
   "execution_count": 111,
   "metadata": {},
   "outputs": [
    {
     "data": {
      "text/html": [
       "<div>\n",
       "<style scoped>\n",
       "    .dataframe tbody tr th:only-of-type {\n",
       "        vertical-align: middle;\n",
       "    }\n",
       "\n",
       "    .dataframe tbody tr th {\n",
       "        vertical-align: top;\n",
       "    }\n",
       "\n",
       "    .dataframe thead th {\n",
       "        text-align: right;\n",
       "    }\n",
       "</style>\n",
       "<table border=\"1\" class=\"dataframe\">\n",
       "  <thead>\n",
       "    <tr style=\"text-align: right;\">\n",
       "      <th></th>\n",
       "      <th>Date</th>\n",
       "      <th>Hrs</th>\n",
       "      <th>Limit</th>\n",
       "      <th>Balance</th>\n",
       "      <th>Buy-in</th>\n",
       "      <th>Finished With</th>\n",
       "      <th>Profit</th>\n",
       "      <th>Cash-out</th>\n",
       "      <th>Result</th>\n",
       "      <th>$/h</th>\n",
       "    </tr>\n",
       "  </thead>\n",
       "  <tbody>\n",
       "    <tr>\n",
       "      <td>0</td>\n",
       "      <td>2020-08-13</td>\n",
       "      <td>2</td>\n",
       "      <td>$1-2</td>\n",
       "      <td>NaN</td>\n",
       "      <td>200.0</td>\n",
       "      <td>0.0</td>\n",
       "      <td>-200.0</td>\n",
       "      <td>0.0</td>\n",
       "      <td>-200.0</td>\n",
       "      <td>-100.000000</td>\n",
       "    </tr>\n",
       "    <tr>\n",
       "      <td>1</td>\n",
       "      <td>2020-08-14</td>\n",
       "      <td>1</td>\n",
       "      <td>$1-2</td>\n",
       "      <td>NaN</td>\n",
       "      <td>200.0</td>\n",
       "      <td>0.0</td>\n",
       "      <td>-200.0</td>\n",
       "      <td>0.0</td>\n",
       "      <td>-200.0</td>\n",
       "      <td>-200.000000</td>\n",
       "    </tr>\n",
       "    <tr>\n",
       "      <td>2</td>\n",
       "      <td>2020-08-15</td>\n",
       "      <td>4</td>\n",
       "      <td>$1-2</td>\n",
       "      <td>NaN</td>\n",
       "      <td>200.0</td>\n",
       "      <td>552.0</td>\n",
       "      <td>352.0</td>\n",
       "      <td>0.0</td>\n",
       "      <td>-200.0</td>\n",
       "      <td>-50.000000</td>\n",
       "    </tr>\n",
       "    <tr>\n",
       "      <td>3</td>\n",
       "      <td>2020-08-16</td>\n",
       "      <td>4</td>\n",
       "      <td>$1-2</td>\n",
       "      <td>NaN</td>\n",
       "      <td>0.0</td>\n",
       "      <td>437.0</td>\n",
       "      <td>437.0</td>\n",
       "      <td>0.0</td>\n",
       "      <td>0.0</td>\n",
       "      <td>0.000000</td>\n",
       "    </tr>\n",
       "    <tr>\n",
       "      <td>4</td>\n",
       "      <td>2020-08-19</td>\n",
       "      <td>2</td>\n",
       "      <td>$1-2</td>\n",
       "      <td>NaN</td>\n",
       "      <td>200.0</td>\n",
       "      <td>0.0</td>\n",
       "      <td>-200.0</td>\n",
       "      <td>0.0</td>\n",
       "      <td>-200.0</td>\n",
       "      <td>-100.000000</td>\n",
       "    </tr>\n",
       "    <tr>\n",
       "      <td>5</td>\n",
       "      <td>2020-08-20</td>\n",
       "      <td>2</td>\n",
       "      <td>$1-2</td>\n",
       "      <td>NaN</td>\n",
       "      <td>150.0</td>\n",
       "      <td>0.0</td>\n",
       "      <td>-150.0</td>\n",
       "      <td>0.0</td>\n",
       "      <td>-150.0</td>\n",
       "      <td>-75.000000</td>\n",
       "    </tr>\n",
       "    <tr>\n",
       "      <td>6</td>\n",
       "      <td>2020-08-23</td>\n",
       "      <td>3</td>\n",
       "      <td>$1-2</td>\n",
       "      <td>NaN</td>\n",
       "      <td>400.0</td>\n",
       "      <td>100.0</td>\n",
       "      <td>-300.0</td>\n",
       "      <td>0.0</td>\n",
       "      <td>-400.0</td>\n",
       "      <td>-133.333333</td>\n",
       "    </tr>\n",
       "    <tr>\n",
       "      <td>7</td>\n",
       "      <td>2020-08-24</td>\n",
       "      <td>1</td>\n",
       "      <td>NaN</td>\n",
       "      <td>NaN</td>\n",
       "      <td>100.0</td>\n",
       "      <td>100.0</td>\n",
       "      <td>0.0</td>\n",
       "      <td>0.0</td>\n",
       "      <td>-100.0</td>\n",
       "      <td>-100.000000</td>\n",
       "    </tr>\n",
       "    <tr>\n",
       "      <td>8</td>\n",
       "      <td>2020-08-25</td>\n",
       "      <td>2</td>\n",
       "      <td>$1-2</td>\n",
       "      <td>NaN</td>\n",
       "      <td>200.0</td>\n",
       "      <td>374.0</td>\n",
       "      <td>174.0</td>\n",
       "      <td>374.0</td>\n",
       "      <td>174.0</td>\n",
       "      <td>87.000000</td>\n",
       "    </tr>\n",
       "    <tr>\n",
       "      <td>9</td>\n",
       "      <td>2020-09-04</td>\n",
       "      <td>3</td>\n",
       "      <td>$1-3</td>\n",
       "      <td>NaN</td>\n",
       "      <td>200.0</td>\n",
       "      <td>437.0</td>\n",
       "      <td>237.0</td>\n",
       "      <td>437.0</td>\n",
       "      <td>237.0</td>\n",
       "      <td>79.000000</td>\n",
       "    </tr>\n",
       "    <tr>\n",
       "      <td>10</td>\n",
       "      <td>2021-01-12</td>\n",
       "      <td>NaN</td>\n",
       "      <td>$1-2</td>\n",
       "      <td>NaN</td>\n",
       "      <td>200.0</td>\n",
       "      <td>0.0</td>\n",
       "      <td>-200.0</td>\n",
       "      <td>0.0</td>\n",
       "      <td>-200.0</td>\n",
       "      <td>NaN</td>\n",
       "    </tr>\n",
       "    <tr>\n",
       "      <td>11</td>\n",
       "      <td>2021-01-13</td>\n",
       "      <td>NaN</td>\n",
       "      <td>$1-2</td>\n",
       "      <td>NaN</td>\n",
       "      <td>382.0</td>\n",
       "      <td>0.0</td>\n",
       "      <td>-382.0</td>\n",
       "      <td>0.0</td>\n",
       "      <td>-382.0</td>\n",
       "      <td>NaN</td>\n",
       "    </tr>\n",
       "    <tr>\n",
       "      <td>12</td>\n",
       "      <td>2021-01-15</td>\n",
       "      <td>W/ boys</td>\n",
       "      <td>$1-2</td>\n",
       "      <td>NaN</td>\n",
       "      <td>60.0</td>\n",
       "      <td>120.0</td>\n",
       "      <td>60.0</td>\n",
       "      <td>120.0</td>\n",
       "      <td>60.0</td>\n",
       "      <td>NaN</td>\n",
       "    </tr>\n",
       "    <tr>\n",
       "      <td>13</td>\n",
       "      <td>2021-01-16</td>\n",
       "      <td>W/ boys</td>\n",
       "      <td>$1-2</td>\n",
       "      <td>NaN</td>\n",
       "      <td>150.0</td>\n",
       "      <td>257.0</td>\n",
       "      <td>107.0</td>\n",
       "      <td>257.0</td>\n",
       "      <td>107.0</td>\n",
       "      <td>NaN</td>\n",
       "    </tr>\n",
       "    <tr>\n",
       "      <td>14</td>\n",
       "      <td>2021-01-17</td>\n",
       "      <td>NaN</td>\n",
       "      <td>$1-2</td>\n",
       "      <td>NaN</td>\n",
       "      <td>400.0</td>\n",
       "      <td>0.0</td>\n",
       "      <td>-400.0</td>\n",
       "      <td>0.0</td>\n",
       "      <td>-400.0</td>\n",
       "      <td>NaN</td>\n",
       "    </tr>\n",
       "    <tr>\n",
       "      <td>15</td>\n",
       "      <td>2021-01-18</td>\n",
       "      <td>NaN</td>\n",
       "      <td>$1-2</td>\n",
       "      <td>NaN</td>\n",
       "      <td>400.0</td>\n",
       "      <td>798.0</td>\n",
       "      <td>398.0</td>\n",
       "      <td>798.0</td>\n",
       "      <td>398.0</td>\n",
       "      <td>NaN</td>\n",
       "    </tr>\n",
       "    <tr>\n",
       "      <td>16</td>\n",
       "      <td>2021-01-19</td>\n",
       "      <td>NaN</td>\n",
       "      <td>$1-2</td>\n",
       "      <td>$400</td>\n",
       "      <td>400.0</td>\n",
       "      <td>793.0</td>\n",
       "      <td>393.0</td>\n",
       "      <td>793.0</td>\n",
       "      <td>393.0</td>\n",
       "      <td>NaN</td>\n",
       "    </tr>\n",
       "    <tr>\n",
       "      <td>17</td>\n",
       "      <td>2021-02-01</td>\n",
       "      <td>NaN</td>\n",
       "      <td>$1-2</td>\n",
       "      <td>$400</td>\n",
       "      <td>400.0</td>\n",
       "      <td>0.0</td>\n",
       "      <td>-400.0</td>\n",
       "      <td>0.0</td>\n",
       "      <td>-400.0</td>\n",
       "      <td>NaN</td>\n",
       "    </tr>\n",
       "    <tr>\n",
       "      <td>18</td>\n",
       "      <td>2021-02-03</td>\n",
       "      <td>NaN</td>\n",
       "      <td>$1-2</td>\n",
       "      <td>$0</td>\n",
       "      <td>395.0</td>\n",
       "      <td>691.0</td>\n",
       "      <td>296.0</td>\n",
       "      <td>300.0</td>\n",
       "      <td>-95.0</td>\n",
       "      <td>NaN</td>\n",
       "    </tr>\n",
       "  </tbody>\n",
       "</table>\n",
       "</div>"
      ],
      "text/plain": [
       "         Date      Hrs Limit Balance  Buy-in  Finished With  Profit  Cash-out  \\\n",
       "0  2020-08-13        2  $1-2     NaN   200.0            0.0  -200.0       0.0   \n",
       "1  2020-08-14        1  $1-2     NaN   200.0            0.0  -200.0       0.0   \n",
       "2  2020-08-15        4  $1-2     NaN   200.0          552.0   352.0       0.0   \n",
       "3  2020-08-16        4  $1-2     NaN     0.0          437.0   437.0       0.0   \n",
       "4  2020-08-19        2  $1-2     NaN   200.0            0.0  -200.0       0.0   \n",
       "5  2020-08-20        2  $1-2     NaN   150.0            0.0  -150.0       0.0   \n",
       "6  2020-08-23        3  $1-2     NaN   400.0          100.0  -300.0       0.0   \n",
       "7  2020-08-24        1   NaN     NaN   100.0          100.0     0.0       0.0   \n",
       "8  2020-08-25        2  $1-2     NaN   200.0          374.0   174.0     374.0   \n",
       "9  2020-09-04        3  $1-3     NaN   200.0          437.0   237.0     437.0   \n",
       "10 2021-01-12      NaN  $1-2     NaN   200.0            0.0  -200.0       0.0   \n",
       "11 2021-01-13      NaN  $1-2     NaN   382.0            0.0  -382.0       0.0   \n",
       "12 2021-01-15  W/ boys  $1-2     NaN    60.0          120.0    60.0     120.0   \n",
       "13 2021-01-16  W/ boys  $1-2     NaN   150.0          257.0   107.0     257.0   \n",
       "14 2021-01-17      NaN  $1-2     NaN   400.0            0.0  -400.0       0.0   \n",
       "15 2021-01-18      NaN  $1-2     NaN   400.0          798.0   398.0     798.0   \n",
       "16 2021-01-19      NaN  $1-2   $400    400.0          793.0   393.0     793.0   \n",
       "17 2021-02-01      NaN  $1-2   $400    400.0            0.0  -400.0       0.0   \n",
       "18 2021-02-03      NaN  $1-2     $0    395.0          691.0   296.0     300.0   \n",
       "\n",
       "    Result         $/h  \n",
       "0   -200.0 -100.000000  \n",
       "1   -200.0 -200.000000  \n",
       "2   -200.0  -50.000000  \n",
       "3      0.0    0.000000  \n",
       "4   -200.0 -100.000000  \n",
       "5   -150.0  -75.000000  \n",
       "6   -400.0 -133.333333  \n",
       "7   -100.0 -100.000000  \n",
       "8    174.0   87.000000  \n",
       "9    237.0   79.000000  \n",
       "10  -200.0         NaN  \n",
       "11  -382.0         NaN  \n",
       "12    60.0         NaN  \n",
       "13   107.0         NaN  \n",
       "14  -400.0         NaN  \n",
       "15   398.0         NaN  \n",
       "16   393.0         NaN  \n",
       "17  -400.0         NaN  \n",
       "18   -95.0         NaN  "
      ]
     },
     "execution_count": 111,
     "metadata": {},
     "output_type": "execute_result"
    }
   ],
   "source": [
    "hands.head(30)\n"
   ]
  },
  {
   "cell_type": "code",
   "execution_count": null,
   "metadata": {},
   "outputs": [],
   "source": [
    "#convert dates to datetime using pandas\n",
    "hands['Date'] = pd.to_datetime(hands['Date'])"
   ]
  },
  {
   "cell_type": "code",
   "execution_count": 85,
   "metadata": {},
   "outputs": [
    {
     "data": {
      "text/plain": [
       "<matplotlib.collections.PathCollection at 0x7fb1a1cf64d0>"
      ]
     },
     "execution_count": 85,
     "metadata": {},
     "output_type": "execute_result"
    },
    {
     "data": {
      "image/png": "[encoded data removed]",
      "text/plain": [
       "<Figure size 432x288 with 1 Axes>"
      ]
     },
     "metadata": {
      "needs_background": "light"
     },
     "output_type": "display_data"
    }
   ],
   "source": [
    "plt.scatter(x=hands['Date'],y=hands['Profit'])\n"
   ]
  },
  {
   "cell_type": "code",
   "execution_count": 97,
   "metadata": {},
   "outputs": [
    {
     "data": {
      "text/plain": [
       "<matplotlib.collections.PathCollection at 0x7fb1a247df90>"
      ]
     },
     "execution_count": 97,
     "metadata": {},
     "output_type": "execute_result"
    },
    {
     "data": {
      "image/png": "[encoded data removed]",
      "text/plain": [
       "<Figure size 432x288 with 1 Axes>"
      ]
     },
     "metadata": {
      "needs_background": "light"
     },
     "output_type": "display_data"
    }
   ],
   "source": [
    "plt.scatter(x=hands['Profit'],y=hands['Date'])"
   ]
  },
  {
   "cell_type": "code",
   "execution_count": 116,
   "metadata": {},
   "outputs": [
    {
     "data": {
      "image/png": "[encoded data removed]",
      "text/plain": [
       "<Figure size 864x432 with 1 Axes>"
      ]
     },
     "metadata": {
      "needs_background": "light"
     },
     "output_type": "display_data"
    }
   ],
   "source": [
    "hands['Result'].plot(kind = 'line',\n",
    "          figsize=(12,6));\n"
   ]
  },
  {
   "cell_type": "code",
   "execution_count": 117,
   "metadata": {},
   "outputs": [],
   "source": [
    "from sklearn.linear_model import LinearRegression"
   ]
  },
  {
   "cell_type": "code",
   "execution_count": 119,
   "metadata": {},
   "outputs": [],
   "source": [
    "X = hands[['Date']]\n",
    "y = hands['Profit']\n",
    "\n",
    "lr = LinearRegression()\n",
    "model = lr.fit(X, y)\n",
    "\n"
   ]
  },
  {
   "cell_type": "code",
   "execution_count": 120,
   "metadata": {},
   "outputs": [
    {
     "data": {
      "text/plain": [
       "(19, 1)"
      ]
     },
     "execution_count": 120,
     "metadata": {},
     "output_type": "execute_result"
    }
   ],
   "source": [
    "X.shape"
   ]
  },
  {
   "cell_type": "code",
   "execution_count": 121,
   "metadata": {},
   "outputs": [
    {
     "data": {
      "text/plain": [
       "(19,)"
      ]
     },
     "execution_count": 121,
     "metadata": {},
     "output_type": "execute_result"
    }
   ],
   "source": [
    "y.shape"
   ]
  },
  {
   "cell_type": "code",
   "execution_count": 124,
   "metadata": {},
   "outputs": [
    {
     "data": {
      "text/plain": [
       "0    2020-08-13\n",
       "1    2020-08-14\n",
       "2    2020-08-15\n",
       "3    2020-08-16\n",
       "4    2020-08-19\n",
       "5    2020-08-20\n",
       "6    2020-08-23\n",
       "7    2020-08-24\n",
       "8    2020-08-25\n",
       "9    2020-09-04\n",
       "10   2021-01-12\n",
       "11   2021-01-13\n",
       "12   2021-01-15\n",
       "13   2021-01-16\n",
       "14   2021-01-17\n",
       "15   2021-01-18\n",
       "16   2021-01-19\n",
       "17   2021-02-01\n",
       "18   2021-02-03\n",
       "Name: Date, dtype: datetime64[ns]"
      ]
     },
     "execution_count": 124,
     "metadata": {},
     "output_type": "execute_result"
    }
   ],
   "source": [
    "hands['Date']"
   ]
  },
  {
   "cell_type": "code",
   "execution_count": null,
   "metadata": {},
   "outputs": [],
   "source": []
  }
 ],
 "metadata": {
  "kernelspec": {
   "display_name": "Python 3",
   "language": "python",
   "name": "python3"
  },
  "language_info": {
   "codemirror_mode": {
    "name": "ipython",
    "version": 3
   },
   "file_extension": ".py",
   "mimetype": "text/x-python",
   "name": "python",
   "nbconvert_exporter": "python",
   "pygments_lexer": "ipython3",
   "version": "3.7.4"
  }
 },
 "nbformat": 4,
 "nbformat_minor": 2
}
